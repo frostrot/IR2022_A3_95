{
 "cells": [
  {
   "cell_type": "code",
   "execution_count": 13,
   "metadata": {},
   "outputs": [],
   "source": [
    "import numpy as np\n",
    "import matplotlib.pyplot as plt \n",
    "import pickle as pkl\n",
    "# import seaborn as sns\n",
    "# sns.set_style(\"darkgrid\")"
   ]
  },
  {
   "cell_type": "code",
   "execution_count": 14,
   "metadata": {},
   "outputs": [
    {
     "name": "stdout",
     "output_type": "stream",
     "text": [
      "Number of Nodes- \n"
     ]
    },
    {
     "data": {
      "text/plain": [
       "7115"
      ]
     },
     "execution_count": 14,
     "metadata": {},
     "output_type": "execute_result"
    }
   ],
   "source": [
    "with open(\"../wiki-Vote.txt\",'r') as f:\n",
    "    values = f.readlines()\n",
    "values = values[4:]\n",
    "\n",
    "s = set()\n",
    "for edges in values:\n",
    "    u,v = edges.split('\\t')\n",
    "    s.add(int(u))\n",
    "    s.add(int(v))\n",
    "print(\"Number of Nodes- \")\n",
    "len(s)"
   ]
  },
  {
   "cell_type": "code",
   "execution_count": 15,
   "metadata": {},
   "outputs": [],
   "source": [
    "adjacency_matrix = np.zeros((len(s),len(s)))\n",
    "mapping = {}\n",
    "edge_list = []\n",
    "counter=0\n",
    "for edges in values:\n",
    "    u,v = edges.split('\\t')\n",
    "    u,v = int(u),int(v)\n",
    "    edge_list.append((u,v))\n",
    "\n",
    "    if u in mapping:\n",
    "        if v in mapping:\n",
    "            adjacency_matrix[mapping[u]][mapping[v]]=1\n",
    "        else:\n",
    "            mapping[v] = counter\n",
    "            counter+=1\n",
    "            adjacency_matrix[mapping[u]][mapping[v]]=1\n",
    "    else:\n",
    "        mapping[u] = counter\n",
    "        counter+=1\n",
    "        if v in mapping:\n",
    "           adjacency_matrix[mapping[u]][mapping[v]]=1\n",
    "        else:\n",
    "            mapping[v] = counter\n",
    "            counter+=1\n",
    "            adjacency_matrix[mapping[u]][mapping[v]]=1\n",
    "        \n",
    "edge_list = np.array(edge_list)"
   ]
  },
  {
   "cell_type": "code",
   "execution_count": 16,
   "metadata": {},
   "outputs": [
    {
     "name": "stdout",
     "output_type": "stream",
     "text": [
      "Number of Edges are- \n"
     ]
    },
    {
     "data": {
      "text/plain": [
       "103689"
      ]
     },
     "execution_count": 16,
     "metadata": {},
     "output_type": "execute_result"
    }
   ],
   "source": [
    "print(\"Number of Edges are- \")\n",
    "len(edge_list)"
   ]
  },
  {
   "cell_type": "code",
   "execution_count": 17,
   "metadata": {},
   "outputs": [],
   "source": [
    "reverse_mapping = {y:x for x,y in mapping.items()}"
   ]
  },
  {
   "cell_type": "code",
   "execution_count": 18,
   "metadata": {},
   "outputs": [
    {
     "name": "stdout",
     "output_type": "stream",
     "text": [
      "The Edge List is- \n"
     ]
    },
    {
     "data": {
      "text/plain": [
       "array([[  30, 1412],\n",
       "       [  30, 3352],\n",
       "       [  30, 5254],\n",
       "       ...,\n",
       "       [8150, 8275],\n",
       "       [8150, 8276],\n",
       "       [8274, 8275]])"
      ]
     },
     "execution_count": 18,
     "metadata": {},
     "output_type": "execute_result"
    }
   ],
   "source": [
    "print(\"The Edge List is- \")\n",
    "edge_list"
   ]
  },
  {
   "cell_type": "code",
   "execution_count": 19,
   "metadata": {},
   "outputs": [
    {
     "name": "stdout",
     "output_type": "stream",
     "text": [
      "The Adjacency Matrix is- \n"
     ]
    },
    {
     "data": {
      "text/plain": [
       "array([[0., 1., 1., ..., 0., 0., 0.],\n",
       "       [0., 0., 0., ..., 0., 0., 0.],\n",
       "       [0., 0., 0., ..., 0., 0., 0.],\n",
       "       ...,\n",
       "       [0., 0., 0., ..., 0., 0., 0.],\n",
       "       [0., 0., 0., ..., 0., 0., 0.],\n",
       "       [0., 0., 0., ..., 0., 0., 0.]])"
      ]
     },
     "execution_count": 19,
     "metadata": {},
     "output_type": "execute_result"
    }
   ],
   "source": [
    "print(\"The Adjacency Matrix is- \")\n",
    "adjacency_matrix"
   ]
  },
  {
   "cell_type": "code",
   "execution_count": 20,
   "metadata": {},
   "outputs": [],
   "source": [
    "in_degree = np.sum(adjacency_matrix,axis=0)\n",
    "out_degree = np.sum(adjacency_matrix,axis=1)"
   ]
  },
  {
   "cell_type": "code",
   "execution_count": 21,
   "metadata": {},
   "outputs": [
    {
     "name": "stdout",
     "output_type": "stream",
     "text": [
      "Average In degree and Out degree are-\n"
     ]
    },
    {
     "data": {
      "text/plain": [
       "(14.573295853829936, 14.573295853829936)"
      ]
     },
     "execution_count": 21,
     "metadata": {},
     "output_type": "execute_result"
    }
   ],
   "source": [
    "avg_in_degree = np.average(in_degree)\n",
    "avg_out_degree = np.average(out_degree)\n",
    "\n",
    "print(\"Average In degree and Out degree are-\")\n",
    "avg_in_degree,avg_out_degree"
   ]
  },
  {
   "cell_type": "code",
   "execution_count": 22,
   "metadata": {},
   "outputs": [
    {
     "name": "stdout",
     "output_type": "stream",
     "text": [
      "Node with Maximum In degree and Out Degree is-\n"
     ]
    },
    {
     "data": {
      "text/plain": [
       "(4037, 2565)"
      ]
     },
     "execution_count": 22,
     "metadata": {},
     "output_type": "execute_result"
    }
   ],
   "source": [
    "print(\"Node with Maximum In degree and Out Degree is-\")\n",
    "reverse_mapping[np.argmax(in_degree)],reverse_mapping[np.argmax(out_degree)]"
   ]
  },
  {
   "cell_type": "code",
   "execution_count": 23,
   "metadata": {},
   "outputs": [
    {
     "name": "stdout",
     "output_type": "stream",
     "text": [
      "Density of the Graph is-\n"
     ]
    },
    {
     "data": {
      "text/plain": [
       "0.0020485375110809584"
      ]
     },
     "execution_count": 23,
     "metadata": {},
     "output_type": "execute_result"
    }
   ],
   "source": [
    "density = len(edge_list)/(len(s)*(len(s)-1))\n",
    "print(\"Density of the Graph is-\")\n",
    "density"
   ]
  },
  {
   "cell_type": "code",
   "execution_count": 24,
   "metadata": {},
   "outputs": [],
   "source": [
    "in_distribution = {}\n",
    "out_distribution = {}\n",
    "\n",
    "for nodes,i in enumerate(in_degree):\n",
    "    if i in in_distribution:\n",
    "        in_distribution[i]+=1\n",
    "    else:\n",
    "        in_distribution[i]=1\n",
    "    \n",
    "for nodes,i in enumerate(out_degree):\n",
    "    if i in out_distribution:\n",
    "        out_distribution[i]+=1\n",
    "    else:\n",
    "        out_distribution[i]=1\n",
    "\n",
    "in_distribution = {k:v/len(s) for k,v in in_distribution.items()}\n",
    "in_distribution = {x[0]:x[1] for x in sorted(in_distribution.items(),key= lambda x: x[0])}\n",
    "out_distribution = {k:v/len(s) for k,v in out_distribution.items()}\n",
    "out_distribution = {x[0]:x[1] for x in sorted(out_distribution.items(),key= lambda x: x[0])}"
   ]
  },
  {
   "cell_type": "code",
   "execution_count": 25,
   "metadata": {},
   "outputs": [
    {
     "data": {
      "text/plain": [
       "<BarContainer object of 238 artists>"
      ]
     },
     "execution_count": 25,
     "metadata": {},
     "output_type": "execute_result"
    },
    {
     "data": {
      "image/png": "[encoded data removed]",
      "text/plain": [
       "<Figure size 1080x720 with 2 Axes>"
      ]
     },
     "metadata": {
      "needs_background": "light"
     },
     "output_type": "display_data"
    }
   ],
   "source": [
    "fig, (ax1, ax2) = plt.subplots(2, 1,figsize=(15,10))\n",
    "ax1.set_title(\"In Degree Distribution\")\n",
    "ax2.set_title(\"Out Degree Distribution\")\n",
    "# ax1 = sns.barplot(x=np.array(list(in_distribution.keys())),y=np.array(list(in_distribution.values()))).set(xlabel='Degree', ylabel='Fraction Distribution')\n",
    "ax1.bar(in_distribution.keys(),in_distribution.values())\n",
    "# ax2 = sns.barplot(x=np.array(list(out_distribution.keys())),y=np.array(list(out_distribution.values()))).set(xlabel='Degree', ylabel='Fraction Distribution')\n",
    "ax2.bar(out_distribution.keys(),out_distribution.values())"
   ]
  },
  {
   "cell_type": "code",
   "execution_count": 26,
   "metadata": {},
   "outputs": [],
   "source": [
    "clustering_coeff = np.zeros(len(s))\n",
    "\n",
    "for nodes in mapping:\n",
    "    k = set()\n",
    "    neg = 0\n",
    "    for i,adlist in enumerate(adjacency_matrix[mapping[nodes]]):\n",
    "        if adlist==1:\n",
    "            k.add(i)\n",
    "            neg+=1\n",
    "    \n",
    "    for i,adlist in enumerate(adjacency_matrix[:,mapping[nodes]]):\n",
    "        if adlist==1:\n",
    "            k.add(i)\n",
    "            neg+=1\n",
    "    k = len(k)\n",
    "    if k<2:\n",
    "        clustering_coeff[mapping[nodes]] = 0\n",
    "    else:\n",
    "        clustering_coeff[mapping[nodes]] = neg/(k*(k-1))"
   ]
  },
  {
   "cell_type": "code",
   "execution_count": 27,
   "metadata": {},
   "outputs": [
    {
     "data": {
      "text/plain": [
       "<BarContainer object of 7115 artists>"
      ]
     },
     "execution_count": 27,
     "metadata": {},
     "output_type": "execute_result"
    },
    {
     "data": {
      "image/png": "[encoded data removed]",
      "text/plain": [
       "<Figure size 1080x576 with 1 Axes>"
      ]
     },
     "metadata": {
      "needs_background": "light"
     },
     "output_type": "display_data"
    }
   ],
   "source": [
    "fig, ax1 = plt.subplots(1, 1,figsize=(15,8))\n",
    "ax1.set_title(\"Local Clustering Co-efficient\")\n",
    "ax1.bar(reverse_mapping.values(),clustering_coeff)"
   ]
  }
 ],
 "metadata": {
  "interpreter": {
   "hash": "f1cbb85fbb159a91b512923319bfb5d4c6de1269d10ca612a23b6e07a28361c8"
  },
  "kernelspec": {
   "display_name": "Python 3.8.12 ('base')",
   "language": "python",
   "name": "python3"
  },
  "language_info": {
   "codemirror_mode": {
    "name": "ipython",
    "version": 3
   },
   "file_extension": ".py",
   "mimetype": "text/x-python",
   "name": "python",
   "nbconvert_exporter": "python",
   "pygments_lexer": "ipython3",
   "version": "3.8.12"
  },
  "orig_nbformat": 4
 },
 "nbformat": 4,
 "nbformat_minor": 2
}
